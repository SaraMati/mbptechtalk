{
 "cells": [
  {
   "cell_type": "code",
   "execution_count": 1,
   "metadata": {},
   "outputs": [],
   "source": [
    "import numpy as np\n",
    "import importlib\n",
    "import logging"
   ]
  },
  {
   "cell_type": "code",
   "execution_count": 2,
   "metadata": {},
   "outputs": [
    {
     "name": "stdout",
     "output_type": "stream",
     "text": [
      "LICENSE.txt                 \u001b[34mmymodule\u001b[m\u001b[m/\r\n",
      "README.md                   setup.cfg\r\n",
      "mbptechtalk_20190118.ipynb  setup.py\r\n"
     ]
    }
   ],
   "source": [
    "ls"
   ]
  },
  {
   "cell_type": "code",
   "execution_count": 3,
   "metadata": {},
   "outputs": [
    {
     "data": {
      "text/plain": [
       "<module 'mymodule.mymath' from '/Users/gw/Dropbox/2018w/mbptechtalk/mymodule/mymath.py'>"
      ]
     },
     "execution_count": 3,
     "metadata": {},
     "output_type": "execute_result"
    }
   ],
   "source": [
    "from mymodule import gpu, mymath\n",
    "importlib.reload(gpu)\n",
    "importlib.reload(mymath)"
   ]
  },
  {
   "cell_type": "code",
   "execution_count": 4,
   "metadata": {},
   "outputs": [],
   "source": [
    "a = np.ones((5,1000))\n",
    "b = np.ones((1000,3))"
   ]
  },
  {
   "cell_type": "code",
   "execution_count": 5,
   "metadata": {},
   "outputs": [
    {
     "name": "stdout",
     "output_type": "stream",
     "text": [
      "10.2 ms ± 196 µs per loop (mean ± std. dev. of 7 runs, 100 loops each)\n"
     ]
    }
   ],
   "source": [
    "%timeit mymath.mm(a,b)"
   ]
  },
  {
   "cell_type": "code",
   "execution_count": 6,
   "metadata": {},
   "outputs": [
    {
     "name": "stdout",
     "output_type": "stream",
     "text": [
      "14.7 µs ± 116 ns per loop (mean ± std. dev. of 7 runs, 100000 loops each)\n"
     ]
    }
   ],
   "source": [
    "%timeit gpu.mm_jit(a,b)"
   ]
  },
  {
   "cell_type": "code",
   "execution_count": 7,
   "metadata": {},
   "outputs": [
    {
     "name": "stdout",
     "output_type": "stream",
     "text": [
      "2.83 µs ± 29.8 ns per loop (mean ± std. dev. of 7 runs, 100000 loops each)\n"
     ]
    }
   ],
   "source": [
    "%timeit np.dot(a,b)"
   ]
  },
  {
   "cell_type": "markdown",
   "metadata": {},
   "source": [
    "# `__init__.py`\n",
    "Turns a folder into a module where you can import module.file"
   ]
  },
  {
   "cell_type": "code",
   "execution_count": 9,
   "metadata": {},
   "outputs": [],
   "source": [
    "from mymodule.gpu import mm_jit"
   ]
  },
  {
   "cell_type": "code",
   "execution_count": 10,
   "metadata": {},
   "outputs": [
    {
     "name": "stdout",
     "output_type": "stream",
     "text": [
      "/Users/gw/Dropbox/2018w\n",
      "LICENSE.txt                 \u001b[34mmymodule\u001b[m\u001b[m/\r\n",
      "README.md                   setup.cfg\r\n",
      "mbptechtalk_20190118.ipynb  setup.py\r\n"
     ]
    }
   ],
   "source": [
    "%cd /Users/gw/Dropbox/2018w\n",
    "from mymodule import gpu"
   ]
  },
  {
   "cell_type": "code",
   "execution_count": 11,
   "metadata": {},
   "outputs": [],
   "source": [
    "??mymath"
   ]
  },
  {
   "cell_type": "code",
   "execution_count": 32,
   "metadata": {},
   "outputs": [],
   "source": [
    "?mymath.mm"
   ]
  },
  {
   "cell_type": "code",
   "execution_count": 31,
   "metadata": {},
   "outputs": [],
   "source": [
    "??mymath.mm"
   ]
  },
  {
   "cell_type": "markdown",
   "metadata": {},
   "source": [
    "# Logging"
   ]
  },
  {
   "cell_type": "code",
   "execution_count": 11,
   "metadata": {},
   "outputs": [],
   "source": [
    "%%bash\n",
    "cd /Users/gw/Dropbox/2018w/mbptechtalk/mymodule/\n",
    "#rm main.log\n",
    "touch main.log"
   ]
  },
  {
   "cell_type": "code",
   "execution_count": 12,
   "metadata": {},
   "outputs": [
    {
     "name": "stdout",
     "output_type": "stream",
     "text": [
      "/Users/gw/Dropbox/2018w/mbptechtalk/mymodule\n",
      "!\n",
      "__init__.py  \u001b[34m__pycache__\u001b[m\u001b[m/ gpu.py       main.log     mymath.py    run.py\n"
     ]
    }
   ],
   "source": [
    "%cd /Users/gw/Dropbox/2018w/mbptechtalk/mymodule\n",
    "%run run.py\n",
    "%ls"
   ]
  },
  {
   "cell_type": "code",
   "execution_count": 14,
   "metadata": {},
   "outputs": [
    {
     "name": "stdout",
     "output_type": "stream",
     "text": [
      "2019-01-18 12:23:38,360 Started\n",
      "2019-01-18 12:23:39,387 mymath.mm Finished\n",
      "2019-01-18 12:23:39,529 gpu.mm_jit Finished\n",
      "2019-01-18 12:23:39,534 np.dot Finished\n",
      "2019-01-18 12:23:39,534 All done\n"
     ]
    }
   ],
   "source": [
    "%%bash\n",
    "cd /Users/gw/Dropbox/2018w/mbptechtalk/\n",
    "cat main.log"
   ]
  },
  {
   "cell_type": "markdown",
   "metadata": {},
   "source": [
    "# PyPi\n",
    "- Publish your code\n",
    "- Make it easy for others to use and install with pip/conda"
   ]
  }
 ],
 "metadata": {
  "kernelspec": {
   "display_name": "Python 3",
   "language": "python",
   "name": "python3"
  },
  "language_info": {
   "codemirror_mode": {
    "name": "ipython",
    "version": 3
   },
   "file_extension": ".py",
   "mimetype": "text/x-python",
   "name": "python",
   "nbconvert_exporter": "python",
   "pygments_lexer": "ipython3",
   "version": "3.7.1"
  }
 },
 "nbformat": 4,
 "nbformat_minor": 2
}
