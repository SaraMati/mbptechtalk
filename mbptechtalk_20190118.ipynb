{
 "cells": [
  {
   "cell_type": "code",
   "execution_count": 33,
   "metadata": {},
   "outputs": [],
   "source": [
    "import numpy as np\n",
    "import importlib\n",
    "import logging"
   ]
  },
  {
   "cell_type": "code",
   "execution_count": 5,
   "metadata": {},
   "outputs": [
    {
     "name": "stdout",
     "output_type": "stream",
     "text": [
      "Untitled.ipynb  __init__.py     \u001b[34m__pycache__\u001b[m\u001b[m/    gpu.py          mymath.py\r\n"
     ]
    }
   ],
   "source": [
    "ls"
   ]
  },
  {
   "cell_type": "code",
   "execution_count": 7,
   "metadata": {},
   "outputs": [
    {
     "data": {
      "text/plain": [
       "<module 'mymath' from '/Users/gw/Dropbox/2018w/mbptechtalk/mymath.py'>"
      ]
     },
     "execution_count": 7,
     "metadata": {},
     "output_type": "execute_result"
    }
   ],
   "source": [
    "import gpu, mymath\n",
    "importlib.reload(gpu)\n",
    "importlib.reload(mymath)"
   ]
  },
  {
   "cell_type": "code",
   "execution_count": 3,
   "metadata": {},
   "outputs": [],
   "source": [
    "a = np.ones((5,1000))\n",
    "b = np.ones((1000,3))"
   ]
  },
  {
   "cell_type": "code",
   "execution_count": 11,
   "metadata": {},
   "outputs": [
    {
     "name": "stdout",
     "output_type": "stream",
     "text": [
      "10 ms ± 46.7 µs per loop (mean ± std. dev. of 7 runs, 100 loops each)\n"
     ]
    }
   ],
   "source": [
    "%timeit mymath.mm(a,b)"
   ]
  },
  {
   "cell_type": "code",
   "execution_count": 9,
   "metadata": {},
   "outputs": [
    {
     "name": "stdout",
     "output_type": "stream",
     "text": [
      "16 µs ± 3.95 µs per loop (mean ± std. dev. of 7 runs, 1 loop each)\n"
     ]
    }
   ],
   "source": [
    "%timeit gpu.mm_jit(a,b)"
   ]
  },
  {
   "cell_type": "code",
   "execution_count": 10,
   "metadata": {},
   "outputs": [
    {
     "name": "stdout",
     "output_type": "stream",
     "text": [
      "2.91 µs ± 23.2 ns per loop (mean ± std. dev. of 7 runs, 100000 loops each)\n"
     ]
    }
   ],
   "source": [
    "%timeit np.dot(a,b)"
   ]
  },
  {
   "cell_type": "markdown",
   "metadata": {},
   "source": [
    "# __init__.py\n",
    "Turns a folder into a module where you can import module.file"
   ]
  },
  {
   "cell_type": "code",
   "execution_count": 12,
   "metadata": {},
   "outputs": [],
   "source": [
    "from gpu import mm_jit"
   ]
  },
  {
   "cell_type": "code",
   "execution_count": 23,
   "metadata": {},
   "outputs": [
    {
     "name": "stdout",
     "output_type": "stream",
     "text": [
      "/Users/gw/Dropbox/2018w\n",
      "__init__.py                 mbptechtalk_20190118.ipynb\r\n",
      "\u001b[34m__pycache__\u001b[m\u001b[m/                mymath.py\r\n",
      "gpu.py\r\n"
     ]
    }
   ],
   "source": [
    "%cd /Users/gw/Dropbox/2018w\n",
    "%ls /Users/gw/Dropbox/2018w/mbptechtalk\n",
    "from mbptechtalk import gpu"
   ]
  },
  {
   "cell_type": "code",
   "execution_count": 29,
   "metadata": {},
   "outputs": [],
   "source": [
    "??mymath"
   ]
  },
  {
   "cell_type": "code",
   "execution_count": 32,
   "metadata": {},
   "outputs": [],
   "source": [
    "?mymath.mm"
   ]
  },
  {
   "cell_type": "code",
   "execution_count": 31,
   "metadata": {},
   "outputs": [],
   "source": [
    "??mymath.mm"
   ]
  },
  {
   "cell_type": "markdown",
   "metadata": {},
   "source": [
    "# Logging"
   ]
  },
  {
   "cell_type": "code",
   "execution_count": 1,
   "metadata": {},
   "outputs": [],
   "source": [
    "%%bash\n",
    "cd /Users/gw/Dropbox/2018w/mbptechtalk\n",
    "#rm main.log\n",
    "touch main.log"
   ]
  },
  {
   "cell_type": "code",
   "execution_count": 2,
   "metadata": {},
   "outputs": [
    {
     "name": "stdout",
     "output_type": "stream",
     "text": [
      "/Users/gw/Dropbox/2018w/mbptechtalk\n",
      "!\n",
      "__init__.py                 mbptechtalk_20190118.ipynb\n",
      "\u001b[34m__pycache__\u001b[m\u001b[m/                mymath.py\n",
      "gpu.py                      run.py\n",
      "main.log\n"
     ]
    }
   ],
   "source": [
    "%cd /Users/gw/Dropbox/2018w/mbptechtalk\n",
    "%run run.py\n",
    "%ls"
   ]
  },
  {
   "cell_type": "code",
   "execution_count": 3,
   "metadata": {},
   "outputs": [
    {
     "name": "stdout",
     "output_type": "stream",
     "text": [
      "2019-01-18 10:47:41,596 Started\n",
      "2019-01-18 10:47:42,589 mymath.mm Finished\n",
      "2019-01-18 10:47:42,790 gpu.mm_jit Finished\n",
      "2019-01-18 10:47:42,797 np.dot Finished\n",
      "2019-01-18 10:47:42,797 All done\n"
     ]
    }
   ],
   "source": [
    "%%bash\n",
    "cd /Users/gw/Dropbox/2018w/mbptechtalk\n",
    "cat main.log"
   ]
  },
  {
   "cell_type": "markdown",
   "metadata": {},
   "source": [
    "# PyPi\n",
    "- Publish your code\n",
    "- Make it easy for others to use and install with pip/conda"
   ]
  }
 ],
 "metadata": {
  "kernelspec": {
   "display_name": "Python 3",
   "language": "python",
   "name": "python3"
  },
  "language_info": {
   "codemirror_mode": {
    "name": "ipython",
    "version": 3
   },
   "file_extension": ".py",
   "mimetype": "text/x-python",
   "name": "python",
   "nbconvert_exporter": "python",
   "pygments_lexer": "ipython3",
   "version": "3.7.1"
  }
 },
 "nbformat": 4,
 "nbformat_minor": 2
}
